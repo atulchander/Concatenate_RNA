{
  "cells": [
    {
      "cell_type": "markdown",
      "metadata": {
        "id": "view-in-github",
        "colab_type": "text"
      },
      "source": [
        "<a href=\"https://colab.research.google.com/github/atulchander/Concatenate_RNA/blob/main/Concatenate.ipynb\" target=\"_parent\"><img src=\"https://colab.research.google.com/assets/colab-badge.svg\" alt=\"Open In Colab\"/></a>"
      ]
    },
    {
      "cell_type": "code",
      "execution_count": null,
      "metadata": {
        "colab": {
          "base_uri": "https://localhost:8080/"
        },
        "id": "xPkuQPKxflb6",
        "outputId": "5e4421fb-35d5-4a45-c26e-7a1ba44cc36d"
      },
      "outputs": [
        {
          "output_type": "stream",
          "name": "stdout",
          "text": [
            "Mounted at /content/drive\n"
          ]
        }
      ],
      "source": [
        "from google.colab import drive\n",
        "drive.mount('/content/drive')"
      ]
    },
    {
      "cell_type": "markdown",
      "source": [
        "##Code for removing duplicate files that might have been downloaded by errors."
      ],
      "metadata": {
        "id": "p5I91xhbE7nh"
      }
    },
    {
      "cell_type": "code",
      "source": [
        "import os\n",
        "import glob\n",
        "\n",
        "# Define the folder path where your FASTQ files are located\n",
        "folder_path = '/content/drive/MyDrive/Google colab/xyz'\n",
        "\n",
        "# Get a list of all the FASTQ files in the folder\n",
        "fastq_files = glob.glob(os.path.join(folder_path, '*.fastq*'))\n",
        "\n",
        "# Dictionary to store unique files based on their name and size\n",
        "unique_files = {}\n",
        "\n",
        "# Loop through all files to identify duplicates\n",
        "for file in fastq_files:\n",
        "    # Extract base name (everything before the first .fastq)\n",
        "    base_name = os.path.basename(file).split('.fastq')[0]\n",
        "\n",
        "    # Get file size\n",
        "    file_size = os.path.getsize(file)\n",
        "\n",
        "    # Create a unique key based on base name and file size\n",
        "    key = f\"{base_name}_{file_size}\"\n",
        "\n",
        "    # Check if this key already exists\n",
        "    if key in unique_files:\n",
        "        print(f\"Duplicate found: {file} (removing)\")\n",
        "        os.remove(file)  # Remove the duplicate file\n",
        "    else:\n",
        "        unique_files[key] = file  # Keep the unique file\n",
        "\n",
        "print(f\"Processed {len(fastq_files)} files. Kept {len(unique_files)} unique files.\")"
      ],
      "metadata": {
        "colab": {
          "base_uri": "https://localhost:8080/"
        },
        "id": "65xEVv55aynd",
        "outputId": "2acb8cb5-cad4-49b4-ecc1-9cef1deb7c70"
      },
      "execution_count": null,
      "outputs": [
        {
          "output_type": "stream",
          "name": "stdout",
          "text": [
            "Processed 8 files. Kept 8 unique files.\n"
          ]
        }
      ]
    },
    {
      "cell_type": "markdown",
      "source": [
        "##Concatenate R1 and R2 RNA seq reads from different lanes"
      ],
      "metadata": {
        "id": "-rUwPMKsGIgl"
      }
    },
    {
      "cell_type": "code",
      "source": [
        "# Create a subfolder for the concatenated files\n",
        "output_folder = os.path.join(folder_path, 'concatenated_files')\n",
        "os.makedirs(output_folder, exist_ok=True)\n",
        "\n",
        "# Define the checkpoint file path\n",
        "checkpoint_file = os.path.join(output_folder, 'concatenation_checkpoint.txt')\n",
        "\n",
        "# Function to read the checkpoint file and get the list of completed keys\n",
        "def read_checkpoint():\n",
        "    if (os.path.exists(checkpoint_file)):\n",
        "        with open(checkpoint_file, 'r') as f:\n",
        "            completed_files = f.read().splitlines()\n",
        "    else:\n",
        "        completed_files = []\n",
        "    return completed_files\n",
        "\n",
        "# Function to update the checkpoint file after each successful concatenation\n",
        "def update_checkpoint(key):\n",
        "    with open(checkpoint_file, 'a') as f:\n",
        "        f.write(key + '\\n')\n",
        "\n",
        "# Get a list of all the FASTQ files in the folder\n",
        "fastq_files = glob.glob(os.path.join(folder_path, '*.fastq*'))\n",
        "\n",
        "# Group files by sample ID and read direction (R1 or R2), ignoring lane\n",
        "file_groups = {}\n",
        "for file in fastq_files:\n",
        "    # Extract sample ID and read direction (ignoring lane)\n",
        "    parts = os.path.basename(file).split('_')\n",
        "    sample_id = parts[0]  # e.g., XYZ1\n",
        "    read_direction = parts[3]  # e.g., R1 or R2\n",
        "\n",
        "    # Create a key to group by sample ID and read direction\n",
        "    key = f\"{sample_id}_{read_direction}\"\n",
        "\n",
        "    # Add file to the corresponding group\n",
        "    if key not in file_groups:\n",
        "        file_groups[key] = []\n",
        "    file_groups[key].append(file)\n",
        "\n",
        "# Get the list of already completed concatenations from the checkpoint\n",
        "completed_files = read_checkpoint()\n",
        "\n",
        "# Print the number of files in each group before concatenating, and show file names with sizes\n",
        "for key, files in file_groups.items():\n",
        "    print(f\"\\nSample {key}: {len(files)} files\")\n",
        "    for fname in sorted(files):\n",
        "        size_in_bytes = os.path.getsize(fname)\n",
        "        size_in_mb = size_in_bytes / (1024 * 1024)  # Convert bytes to MB\n",
        "        print(f\" - {fname} ({size_in_mb:.2f} MB)\")\n",
        "\n",
        "# Concatenate files in each group and save them in the subfolder\n",
        "for key, files in file_groups.items():\n",
        "    if key in completed_files:\n",
        "        print(f\"\\nSkipping {key} as it's already concatenated.\")\n",
        "        continue\n",
        "\n",
        "    # Define output file name in the new subfolder\n",
        "    output_file = os.path.join(output_folder, f\"{key}_combined.fastq.gz\")\n",
        "\n",
        "    # Concatenate files\n",
        "    with open(output_file, 'wb') as outfile:\n",
        "        for fname in sorted(files):  # Sorting to ensure consistent order\n",
        "            with open(fname, 'rb') as infile:\n",
        "                outfile.write(infile.read())\n",
        "\n",
        "    # Update checkpoint after successful concatenation\n",
        "    update_checkpoint(key)\n",
        "\n",
        "    print(f\"\\nConcatenated {len(files)} files into {output_file}\")\n",
        "\n",
        "print(\"\\nAll files have been concatenated and stored in:\", output_folder)"
      ],
      "metadata": {
        "colab": {
          "base_uri": "https://localhost:8080/"
        },
        "id": "aZvMM_UMESO4",
        "outputId": "1742809e-a4b6-4d55-b645-d4d1d80709d5"
      },
      "execution_count": null,
      "outputs": [
        {
          "output_type": "stream",
          "name": "stdout",
          "text": [
            "\n",
            "Sample EPC1_R2: 4 files\n",
            " - /content/drive/MyDrive/Google colab/EPC1/EPC1_S1_L001_R2_001.fastq.gz (626.91 MB)\n",
            " - /content/drive/MyDrive/Google colab/EPC1/EPC1_S25_L002_R2_001.fastq.gz (657.66 MB)\n",
            " - /content/drive/MyDrive/Google colab/EPC1_S49_L003_R2_001.fastq.gz (593.23 MB)\n",
            " - /content/drive/MyDrive/Google colab/EPC1_S73_L004_R2_001.fastq.gz (685.75 MB)\n",
            "\n",
            "Sample EPC1_R1: 4 files\n",
            " - /content/drive/MyDrive/Google colab/EPC1/EPC1_S1_L001_R1_001.fastq.gz (668.08 MB)\n",
            " - /content/drive/MyDrive/Google colab/EPC1/EPC1_S25_L002_R1_001.fastq.gz (700.89 MB)\n",
            " - /content/drive/MyDrive/Google colab/EPC1/EPC1_S49_L003_R1_001.fastq.gz (636.44 MB)\n",
            " - /content/drive/MyDrive/Google colab/EPC1/EPC1_S73_L004_R1_001.fastq.gz (713.80 MB)\n",
            "\n",
            "Concatenated 4 files into /content/drive/MyDrive/Google colab/EPC1/concatenated_files/EPC1_R2_combined.fastq.gz\n",
            "\n",
            "Concatenated 4 files into /content/drive/MyDrive/Google colab/EPC1/concatenated_files/EPC1_R1_combined.fastq.gz\n",
            "\n",
            "All files have been concatenated and stored in: /content/drive/MyDrive/Google colab/EPC1/concatenated_files\n"
          ]
        }
      ]
    }
  ],
  "metadata": {
    "colab": {
      "machine_shape": "hm",
      "provenance": [],
      "authorship_tag": "ABX9TyNaONkgEw6Ce6YZxYg4RDex",
      "include_colab_link": true
    },
    "kernelspec": {
      "display_name": "Python 3",
      "name": "python3"
    },
    "language_info": {
      "name": "python"
    }
  },
  "nbformat": 4,
  "nbformat_minor": 0
}
